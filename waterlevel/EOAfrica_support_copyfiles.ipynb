{
 "cells": [
  {
   "cell_type": "markdown",
   "id": "4925af1d-3573-4c3f-8e22-7782cb6422ec",
   "metadata": {},
   "source": [
    "<img src=\"media/jupybanner-EOAFRICA+ESA.png\" width=\"100%\" alt=\"Banner for EO AFRICA course\" />\n",
    "\n",
    "# Support notebook: copy data files to a local (backup) directory\n",
    "The local data directory will be part of the git repository so it may also be used on other jupyter platforms\n",
    "\n",
    "*Roelof Rietbroek, Oct 2023*"
   ]
  },
  {
   "cell_type": "code",
   "execution_count": 1,
   "id": "962c0c40-5eb4-4f7c-9955-791424118bdb",
   "metadata": {
    "tags": []
   },
   "outputs": [
    {
     "data": {
      "text/plain": [
       "'../data/JA3_GPS_2PfP034_094_20170113_064808_20170113_074420.nc'"
      ]
     },
     "execution_count": 1,
     "metadata": {},
     "output_type": "execute_result"
    }
   ],
   "source": [
    "import glob\n",
    "import os\n",
    "from shutil import copyfile\n",
    "# Copy Jason 3 Sensor data\n",
    "\n",
    "# possibly modify these to copy a different file too\n",
    "cycle=34\n",
    "passnum=94\n",
    "prodversion='f'\n",
    "\n",
    "eodatapath=f\"/home/eoafrica/eodata/Jason-3/GDR/S-GDR/cycle_{cycle:03d}/JA3_GPS_2P{prodversion}P{cycle:03d}_{passnum:03d}*/*nc\"\n",
    "eodatafilepath=glob.glob(eodatapath)[0]\n",
    "filebase=os.path.basename(eodatafilepath)\n",
    "\n",
    "localdatadir=\"../data\"\n",
    "\n",
    "if not os.path.exists(localdatadir):\n",
    "    os.mkdir(localdatadir)\n",
    "\n",
    "#copy the file\n",
    "copyfile(eodatafilepath,os.path.join(localdatadir,filebase))\n",
    "    "
   ]
  }
 ],
 "metadata": {
  "kernelspec": {
   "display_name": "pyf2f-Dar",
   "language": "python",
   "name": "pyf2f-dar"
  },
  "language_info": {
   "codemirror_mode": {
    "name": "ipython",
    "version": 3
   },
   "file_extension": ".py",
   "mimetype": "text/x-python",
   "name": "python",
   "nbconvert_exporter": "python",
   "pygments_lexer": "ipython3",
   "version": "3.11.6"
  }
 },
 "nbformat": 4,
 "nbformat_minor": 5
}
