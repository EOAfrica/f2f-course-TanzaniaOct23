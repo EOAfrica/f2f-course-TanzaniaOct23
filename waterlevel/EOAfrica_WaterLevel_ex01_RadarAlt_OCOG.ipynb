{
 "cells": [
  {
   "cell_type": "markdown",
   "id": "feba491c-5ee6-4de3-b691-9f8fbbcd2ffb",
   "metadata": {},
   "source": [
    "<img src=\"media/jupybanner-EOAFRICA+ESA.png\" width=\"100%\" alt=\"Banner for EO AFRICA course\" />\n",
    "\n",
    "# Exercise: Introduction to retracking exercise\n",
    "**face 2 face workshop Soil Moisture and Inland Water A with Satellite Radar\n",
    "Dar es Salaam, Tanzania, 19th October 2023**\n",
    "\n",
    "*Authors: Bene Aschenneller, Roelof Rietbroek\n",
    "October 2023*\n",
    "\n",
    "## License\n",
    "This notebook is provided under the following license: [CC-BY-NC-4.0](http://creativecommons.org/licenses/by-nc/4.0/)\n",
    "<a rel=\"license\" href=\"http://creativecommons.org/licenses/by-nc/4.0/\"><img alt=\"Creative Commons License\" style=\"border-width:0\" src=\"https://i.creativecommons.org/l/by-nc/4.0/88x31.png\" /></a>"
   ]
  },
  {
   "cell_type": "markdown",
   "id": "a002c973-5b87-4a01-bd6e-1f43477dc726",
   "metadata": {},
   "source": [
    "## Introduction and goal of the Exercise\n",
    "\n",
    "In satellite radar altimetry, the data is sent from the satellite to the ground station in form of waveforms. Waveforms describe the received energy of the reflections over time. In this exercise you will have a look at waveforms over Lake Tana in Ethiopia and learn how to compute the range (the distance between the satellite and the Earth's surface) with retracking. You find **ToDo**-markers among the notebook with questions and code parts to fill in.\n",
    "\n",
    "### Links and further reading\n",
    "* [The shared folder on the Innovation lab ` see shared/F2F-Dar-es-Salaam_Oct2023`](https://f2f-training.vre.innovation-lab.eoafrica-rd.org)\n",
    "* [Jason-3 products handbook](https://www.aviso.altimetry.fr/fileadmin/documents/data/tools/hdbk_j3.pdf)\n",
    "* [Deng (2002), Estimation of Contamination of ERS-2 and POSEIDON Satellite Radar Altimetry Close to the Coasts of Australia](http://www.tandfonline.com/doi/abs/10.1080/01490410214990)\n",
    "* [Vignudelli (2011), Coastal Altimetry](https://ut.on.worldcat.org/search/detail/701369218?queryString=coastal%20altimetry&clusterResults=true&groupVariantRecords=false)\n",
    "* [Cretaux (2022), Inland Water Altimetry: Technological Progress and Applications](https://link.springer.com/chapter/10.1007/978-3-031-08262-7_6)"
   ]
  },
  {
   "cell_type": "markdown",
   "id": "2226d309-5990-4aba-9e46-d3a6c8188f18",
   "metadata": {},
   "source": [
    "## Step 1: Loading the necessary modules"
   ]
  },
  {
   "cell_type": "code",
   "execution_count": null,
   "id": "33c70536-147a-4476-ad91-7766fe8a3f61",
   "metadata": {
    "jupyter": {
     "source_hidden": true
    },
    "tags": []
   },
   "outputs": [],
   "source": [
    "import xarray as xr\n",
    "import numpy as np\n",
    "\n",
    "# plotting\n",
    "import matplotlib.pyplot as plt\n",
    "import cartopy\n",
    "from cartopy.feature import LAKES\n",
    "# import cartopy.crs as ccrs\n",
    "import glob\n",
    "import os\n",
    "%matplotlib inline"
   ]
  },
  {
   "cell_type": "markdown",
   "id": "607465e7-9b59-46ca-afc4-6a67983b1be7",
   "metadata": {},
   "source": [
    "# Step 1.1 Get the right file path to the Jason-3 data"
   ]
  },
  {
   "cell_type": "code",
   "execution_count": null,
   "id": "f0a92fdd-2161-4b61-9c68-061c4d2e6441",
   "metadata": {
    "jupyter": {
     "source_hidden": true
    },
    "tags": []
   },
   "outputs": [],
   "source": [
    "cycle=34\n",
    "passnum=94\n",
    "prodversion='f'\n",
    "\n",
    "# While on the EO Africa Innovation platform one can use this\n",
    "eodatapath=f\"/home/eoafrica/eodata/Jason-3/GDR/S-GDR/cycle_{cycle:03d}/JA3_GPS_2P{prodversion}P{cycle:03d}_{passnum:03d}*/*nc\"\n",
    "\n",
    "# when working locally change to\n",
    "# eodatapath=f\"../data/JA3_GPS_2P{prodversion}P{cycle:03d}_{passnum:03d}*nc\"\n",
    "\n",
    "#search for the correct netcdf file\n",
    "jason3filepath=glob.glob(eodatapath)[0]\n",
    "print(jason3filepath)"
   ]
  },
  {
   "cell_type": "markdown",
   "id": "ec904a98-04c2-473d-9a9c-523cf62d4581",
   "metadata": {},
   "source": [
    "## Step 2.1: Load the dataset und reduce it to the study area\n",
    "This .nc-file (NetCDF format) is organized in groups to separate the fields in 1 Hz and 20 Hz resolution. Working with groups in xarray is (to this date) not possible, we therefore end up with a lot of code (sorry) and two Datasets `data_20` and `data_01`."
   ]
  },
  {
   "cell_type": "code",
   "execution_count": null,
   "id": "88ad9a43-d887-473b-bcc3-13c94458f9cc",
   "metadata": {
    "jupyter": {
     "source_hidden": true
    },
    "tags": []
   },
   "outputs": [],
   "source": [
    "# load the groups from the netcdf file\n",
    "data_coords = xr.open_dataset(jason3filepath) # global coordinates of the netcdf file\n",
    "data_20 = xr.open_dataset(jason3filepath, group='/data_20') # more corrections are in data_01\n",
    "data_20_ku = xr.open_dataset(jason3filepath, group='/data_20/ku')\n",
    "data_01 = xr.open_dataset(jason3filepath, group='/data_01')\n",
    "data_01_ku = xr.open_dataset(jason3filepath, group='/data_01/ku')\n",
    "\n",
    "# put the groups together to one xarray Dataset for each frequency\n",
    "data_20 = data_coords.merge(data_20)\n",
    "data_20 = data_20.merge(data_20_ku)\n",
    "\n",
    "data_01 = data_coords.merge(data_01)\n",
    "data_01 = data_01.merge(data_01_ku)\n",
    "\n",
    "# reduce the dataset to the study area\n",
    "bnds_lat = (12.35, 11.558) # Lake Tana\n",
    "idx_20 = np.where((data_20.latitude < bnds_lat[0]) & (data_20.latitude > bnds_lat[1]))[0]\n",
    "data_20 = data_20.isel(time=idx_20)\n",
    "idx_01 = np.where((data_01.latitude < bnds_lat[0]) & (data_01.latitude > bnds_lat[1]))[0]\n",
    "data_01 = data_01.isel(time=idx_01)\n",
    "\n",
    "# Show dimensions, coordinates, variables and attributes of the two Datasets\n",
    "display(data_20)\n",
    "display(data_01)"
   ]
  },
  {
   "cell_type": "markdown",
   "id": "443328a7-e968-4d8f-8aef-197aaacd3437",
   "metadata": {},
   "source": [
    "**ToDo**: Have a look at both datasets.\n",
    "- What are the differences in dimensions and coordinates?\n",
    "- What could be meant by 'samples'?\n",
    "- What is the name of the mission?\n",
    "- Which time period is covered by this dataset?\n",
    "- For the brave-hearted: Expand the section with 'Data variables' and read a few of the data attributes describing each field."
   ]
  },
  {
   "cell_type": "markdown",
   "id": "4b06f193-7f08-4cbf-960d-df2e75e5a983",
   "metadata": {},
   "source": [
    "## Step 2.2: Define functions"
   ]
  },
  {
   "cell_type": "markdown",
   "id": "7f6d9835-0c5e-4b67-8cec-8aeb098cb4bc",
   "metadata": {},
   "source": [
    "#### Helper functions"
   ]
  },
  {
   "cell_type": "code",
   "execution_count": null,
   "id": "17859060-abeb-42ad-ad7a-4da8f752ecc9",
   "metadata": {
    "jupyter": {
     "source_hidden": true
    },
    "tags": []
   },
   "outputs": [],
   "source": [
    "def find_nearest(sample, data):\n",
    "    # find the index of the datapoint that is closest to the requested sample value\n",
    "    diffs = data - sample\n",
    "    nearest = min(abs(diffs))\n",
    "    eps = 0.001\n",
    "    idx = np.where((diffs <= nearest + eps) & (diffs >= nearest - eps))[0][0]\n",
    "    return idx"
   ]
  },
  {
   "cell_type": "code",
   "execution_count": null,
   "id": "ff51a5ab-ac04-4780-a0ce-c0959571fd44",
   "metadata": {
    "jupyter": {
     "source_hidden": true
    },
    "tags": []
   },
   "outputs": [],
   "source": [
    "def rms(ts):\n",
    "    return round(np.sqrt(np.nanmean(ts **2)),3)\n",
    "\n",
    "def std(ts): # Variation in one timeseries\n",
    "    err = ts - np.nanmean(ts)\n",
    "    return rms(err)"
   ]
  },
  {
   "cell_type": "markdown",
   "id": "8da1fe43-2601-4078-ae8f-74782a9d9344",
   "metadata": {},
   "source": [
    "#### Plot functions"
   ]
  },
  {
   "cell_type": "code",
   "execution_count": null,
   "id": "c9809be5-713b-403c-a850-075218f0b71d",
   "metadata": {
    "jupyter": {
     "source_hidden": true
    },
    "tags": []
   },
   "outputs": [],
   "source": [
    " def plot_altimetry_tracks(lon, lat, title, cb_label=None, value=None, extent=None, cross=None):\n",
    "    \"\"\"\n",
    "    lon: list or array\n",
    "    lat: list or array\n",
    "    save: bool\n",
    "        True: saves the plot as .png\n",
    "    value : tuple of arrays\n",
    "        Vector with same length as lon and lat, adds colour-coding\n",
    "    title: string\n",
    "    label: string\n",
    "    extent: dictionary in the form of {'lon_min': x.x, 'lon_max': x.x, 'lat_min': x.x, 'lat_max': x.x}\n",
    "    \"\"\"\n",
    "    fig = plt.figure(figsize=(18,8))\n",
    "    #plt.ticklabel_format(useOffset=False) # want to see the real numbers on the y-axes, not something *8e5\n",
    "    \n",
    "    pc=cartopy.crs.PlateCarree()\n",
    "    ax = plt.axes(projection=pc)\n",
    "    ax.add_feature(LAKES, edgecolor = 'darkgray', facecolor = \"lightblue\", zorder=1)\n",
    "    ax.gridlines(draw_labels=True, crs=pc)\n",
    "    \n",
    "    if extent != None:\n",
    "        wnse = list(extent.values())\n",
    "        ax.set_extent(wnse, crs=pc)\n",
    "    \n",
    "    if value is None:\n",
    "        plot = ax.plot(lon, lat, marker='+', ls=\"\")\n",
    "    else:\n",
    "        plot = plt.scatter(lon, lat, c=value, marker='+')\n",
    "        cbar = plt.colorbar(plot, orientation=\"vertical\")\n",
    "        cbar.ax.tick_params(labelsize=20)\n",
    "        cbar.set_label(label=cb_label, size=20)\n",
    "    \n",
    "    if cross != None:\n",
    "        for lats in cross:\n",
    "            idx = find_nearest(lats, lat)\n",
    "            ax.plot(lon[idx], lat[idx], 'xr', markersize=12)\n",
    "                \n",
    "    plt.title(title,fontsize=20)    \n",
    "    plt.xticks(fontsize=18)\n",
    "    plt.yticks(fontsize=18)"
   ]
  },
  {
   "cell_type": "code",
   "execution_count": null,
   "id": "4d73aa06-83f8-4bc7-9633-db5064b6620a",
   "metadata": {
    "jupyter": {
     "source_hidden": true
    },
    "tags": []
   },
   "outputs": [],
   "source": [
    "def plot_waveforms(data, lat):\n",
    "    ylim = 340\n",
    "    fig, axs = plt.subplots(nrows=len(lat), ncols=1, figsize=(10,len(lat)*2.3))\n",
    "    for i, latitude in enumerate(lat):\n",
    "        # find the index of the latitude that is closest to the requested value:\n",
    "        idx = find_nearest(latitude, data.latitude)\n",
    "        axs[i].plot(data.samples, data.power_waveform[idx,:], '.-')\n",
    "        axs[i].set_title('latitude = ' + str(latitude))\n",
    "        axs[i].set_ylim(0, ylim)\n",
    "        axs[i].tick_params(axis='both', which ='major', labelsize=13)\n",
    "        \n",
    "    fig.tight_layout()\n",
    "    fig.suptitle(\"Waveforms\", fontsize=20, x=0.53, y=1.01)\n",
    "    fig.supxlabel('Gates', fontsize=18)\n",
    "    fig.supylabel('Power', fontsize=18, x=-0.02)    "
   ]
  },
  {
   "cell_type": "code",
   "execution_count": null,
   "id": "5c29cf0d-3ae3-4bb9-8b7b-393ca2bf2992",
   "metadata": {
    "jupyter": {
     "source_hidden": true
    },
    "tags": []
   },
   "outputs": [],
   "source": [
    "def plot_single_waveform(data, lat, lep=None, tracking_gate=None, A=None, COG=None):\n",
    "    fig, ax = plt.subplots(figsize=(10, 3.5), tight_layout=True)\n",
    "    # find the index of the latitude that is closest to the requested value:\n",
    "    idx = find_nearest(lat, data.latitude)\n",
    "    ax.plot(data.samples, data.power_waveform[idx,:], '.-')\n",
    "    ax.set_title((\"Waveform at latitude \" + str(lat)), fontsize=20)\n",
    "    ax.tick_params(axis='both', which='major', labelsize=13)\n",
    "    ax.set_xlabel('Gates', fontsize=18)\n",
    "    ax.set_ylabel('Power', fontsize=18)\n",
    "    \n",
    "    if lep != None:\n",
    "        plt.vlines(lep, -5, max(data.power_waveform[idx,:]), 'r', label='LEP')\n",
    "\n",
    "    if tracking_gate != None:\n",
    "        plt.vlines(tracking_gate, -5, max(data.power_waveform[idx,:]), 'black', label='tracking gate')\n",
    "        \n",
    "    if A != None:\n",
    "        plt.hlines(A, min(data.samples), max(data.samples), 'g', label='Amplitude')\n",
    "        \n",
    "    if COG != None:\n",
    "        plt.plot(COG, 0.5*A, 'o', color='black', markersize=8, label='COG')\n",
    "\n",
    "    ax.legend(loc='lower right')    "
   ]
  },
  {
   "cell_type": "markdown",
   "id": "0f42a937-a43a-4cbb-bd65-955c92287a3a",
   "metadata": {},
   "source": [
    "## Step 3: Have a look at the waveforms along the track"
   ]
  },
  {
   "cell_type": "markdown",
   "id": "bf1b3723-cbfc-4f6c-a16b-324e60641172",
   "metadata": {},
   "source": [
    "**ToDo**:\n",
    "- Use the function `plot_altimetry_tracks` to plot a map of the track. \n",
    "- With the help of this map, define a list of latitudes `lat = [lat1, lat2, ...]` along the track where you would like to see the corresponding waveforms.\n",
    "- Plot these waveforms using the function `plot_waveforms`.\n",
    "- Also add the list of latitudes as the cross-parameter in `plot_altimetry_tracks`. This will show you the location of your waveforms on the map.\n",
    "\n",
    "*Coding tips*:\n",
    "- To call a function, you type the name of the function and add the required parameters in brackets.\n",
    "- Some parameters have a default value assigned in the function definition, in this case e.g. `cross=None` means that you don't have to pass this parameter for the function to work.\n",
    "- For `extent` you can use `extent = {'lon_min': 36.965, 'lon_max': 37.700, 'lat_min': bnds_lat[1], 'lat_max': bnds_lat[0]+0.1}`.\n",
    "\n",
    "**Terminology**:\n",
    "- Waveform: Reflected power over time\n",
    "- Gates: A timestep, for the Jason missions: 1 gate = 3.125 ns. Sometimes also called 'bins'.\n",
    "\n",
    "**Questions**:\n",
    "- How do the waveforms change along the track?\n",
    "- Can you identify similar characteristics in the shapes of different waveforms?\n",
    "- Can you see any relation between the waveform shape and the distance to land?"
   ]
  },
  {
   "cell_type": "code",
   "execution_count": null,
   "id": "cfbae626-4a7e-4271-a633-e507d196c54d",
   "metadata": {
    "jupyter": {
     "source_hidden": true
    },
    "tags": []
   },
   "outputs": [],
   "source": [
    "extent = {'lon_min': 36.965, 'lon_max': 37.700, 'lat_min': bnds_lat[1], 'lat_max': bnds_lat[0]+0.1}\n",
    "# map (without waveform positions)\n",
    "# plot_altimetry_tracks(data_20.longitude, data_20.latitude, extent=extent)\n",
    "\n",
    "# lat: list of latitudes where to plot waveforms\n",
    "lat = [12.3, 12.25, 12.15, 12.08, 12.00, 11.85]\n",
    "\n",
    "# map (with waveform positions)\n",
    "plot_altimetry_tracks(data_20.longitude, data_20.latitude, title='Jason-3 track over Lake Tana, 13.01.2017',extent=extent, cross=lat)\n",
    "plot_waveforms(data_20, lat)"
   ]
  },
  {
   "attachments": {
    "86fc6aac-dfcc-4d90-b0c3-caf281462600.png": {
     "image/png": "[encoded data removed]"
    }
   },
   "cell_type": "markdown",
   "id": "a0469d23-9508-46d7-857e-cdd5f933bab1",
   "metadata": {
    "tags": []
   },
   "source": [
    "## Step 4: Implement the OCOG retracker\n",
    "**Theory**\n",
    "- A retracker is an algorithm to retrieve parameters like the range (also wave height or wind speed, but here we focus on the range) from the waveform.\n",
    "- Retracking can be done by fitting a model to a waveform or by computing the waveform statistics. There is a wide variety of retracking algorithms.\n",
    "- The most famous retracker is the Brown model. It is based on physics and works well in most cases when there is no land contaminating the footprint.\n",
    "- The Offset Centre of Gravity Retracker (OCOG) is an empirical retracker based on statistics. It estimates a rectangle with amplitude (A), width (W) and center of gravity (COG). Based on this rectangle, the position (in terms of gates) of the leading edge (the first rise of power in the waveform) is computed.\n",
    "\n",
    "**Schematic diagram of the OCOG retracker from Vignudelli (2011):**\n",
    "\n",
    "\n",
    "\n",
    "![image.png](attachment:86fc6aac-dfcc-4d90-b0c3-caf281462600.png)\n",
    "     "
   ]
  },
  {
   "cell_type": "markdown",
   "id": "abf2861d-8419-4ef5-b5b6-18e5765c0a00",
   "metadata": {},
   "source": [
    "**ToDo**:\n",
    "- Choose a waveform you would like to retrack and assign this value to the variable `lat_single` in the cell below.\n",
    "- Compute amplitude, width, center of gravity and leading edge position.\n",
    "\n",
    "*Coding tips*\n",
    "- P in the formulae below is the power that is stored in variable `wf` in the next cell.\n",
    "- \"x to the power of a\" translates in python to `x**a`\n",
    "- `wf` is still a xarray Dataset, it therefore also has the xarray function .sum()"
   ]
  },
  {
   "cell_type": "code",
   "execution_count": null,
   "id": "02b6db09-a7ef-4268-b089-4b2ea080d431",
   "metadata": {
    "jupyter": {
     "source_hidden": true
    },
    "tags": []
   },
   "outputs": [],
   "source": [
    "lat_single = 12.15\n",
    "idx_wf = find_nearest(lat_single, data_20.latitude)\n",
    "wf = data_20.power_waveform[idx_wf, :]"
   ]
  },
  {
   "attachments": {
    "2a94e0df-d58e-47a0-88c7-2bfcf27b2e10.png": {
     "image/png": "[encoded data removed]"
    }
   },
   "cell_type": "markdown",
   "id": "466b4383-088c-44f2-9b9b-0d6f20146ae4",
   "metadata": {},
   "source": [
    "#### 1. Amplitude\n",
    "![image.png](attachment:2a94e0df-d58e-47a0-88c7-2bfcf27b2e10.png)"
   ]
  },
  {
   "cell_type": "code",
   "execution_count": null,
   "id": "33d60f39-ee37-4f52-8de3-1665bcf38d75",
   "metadata": {
    "jupyter": {
     "source_hidden": true
    },
    "tags": []
   },
   "outputs": [],
   "source": [
    "A = np.sqrt((wf**4).sum() / (wf**2).sum())\n",
    "print(A.values)"
   ]
  },
  {
   "attachments": {
    "60c69d97-0508-4262-97bf-259329d9c799.png": {
     "image/png": "[encoded data removed]"
    }
   },
   "cell_type": "markdown",
   "id": "7cb13ec1-9a1d-4ff7-b7b7-b3601b1760a5",
   "metadata": {
    "tags": []
   },
   "source": [
    "#### 2. Width\n",
    "![image.png](attachment:60c69d97-0508-4262-97bf-259329d9c799.png)"
   ]
  },
  {
   "cell_type": "code",
   "execution_count": null,
   "id": "6155caa2-3307-46ce-a14d-995420b7e4dd",
   "metadata": {
    "jupyter": {
     "source_hidden": true
    },
    "tags": []
   },
   "outputs": [],
   "source": [
    "W = ((wf**2).sum())**2 / (wf**4).sum()\n",
    "print(W.values)"
   ]
  },
  {
   "attachments": {
    "035f6d8b-d5e3-40fe-a536-a6c4969e1238.png": {
     "image/png": "[encoded data removed]"
    }
   },
   "cell_type": "markdown",
   "id": "6e214ed4-b78e-4f08-a4b9-75bea983ee32",
   "metadata": {
    "tags": []
   },
   "source": [
    "#### 3. Waveform Center of Gravity\n",
    "![image.png](attachment:035f6d8b-d5e3-40fe-a536-a6c4969e1238.png)"
   ]
  },
  {
   "cell_type": "code",
   "execution_count": null,
   "id": "3fa3ba92-69ef-426e-843d-1f96d5e5f96d",
   "metadata": {
    "jupyter": {
     "source_hidden": true
    },
    "tags": []
   },
   "outputs": [],
   "source": [
    "sum1 = 0\n",
    "for i, value in enumerate(wf):\n",
    "    sum1 = sum1 + (i * (value**2))\n",
    "    \n",
    "COG = sum1 / (wf**2).sum()\n",
    "print(COG.values)"
   ]
  },
  {
   "attachments": {
    "6008b862-bde2-4857-8b56-854b75c8a37c.png": {
     "image/png": "[encoded data removed]"
    }
   },
   "cell_type": "markdown",
   "id": "e50d76da-7dee-4104-ac23-2da022b80e7b",
   "metadata": {},
   "source": [
    "#### 4. Leading Edge Position\n",
    "![image.png](attachment:6008b862-bde2-4857-8b56-854b75c8a37c.png)"
   ]
  },
  {
   "cell_type": "code",
   "execution_count": null,
   "id": "839ed33a-5911-4635-9211-8f81f6890d0d",
   "metadata": {
    "jupyter": {
     "source_hidden": true
    },
    "tags": []
   },
   "outputs": [],
   "source": [
    "LEP = COG - W/2\n",
    "print(LEP.values)"
   ]
  },
  {
   "attachments": {
    "74020aae-ae7a-49e4-a7fb-b66adad2444e.png": {
     "image/png": "[encoded data removed]"
    }
   },
   "cell_type": "markdown",
   "id": "3c920993-6e70-4604-9139-2d584a75e2bc",
   "metadata": {
    "tags": []
   },
   "source": [
    "#### 5. Compute range correction\n",
    "**Theory**\n",
    "- The radar pulse has a rather long way (~1340 km) to travel to the surface and back. The time covered by the waveform is only the short period of reflection at the surface.\n",
    "- The task of the onboard tracker is to estimate the approximate distance to the surface for each point in order to determine when the recording of the waveform should start so that all of the interesting signal is received. This process is sometimes called \"positioning the tracker window\".\n",
    "- We know that this estimate covers the range until a fixed reference, the \"tracking gate\". For the Jason missions, the tracking gate is always gate 32.5. The input file contains the values for the tracker range, this is the range from emitting the pulse at the satellite to the tracking gate.\n",
    "- The results of retracking is a correction to this tracking range. In the case of the OCOG retracker, the distance between the LEP and the tracking gate is the correction for the range.\n",
    "- When the LEP lies before the tracking gate, the correction is negative. When the LEP lies after the tracking gate, the correction is positive.\n",
    "\n",
    "![image.png](attachment:74020aae-ae7a-49e4-a7fb-b66adad2444e.png)\n",
    "\n",
    "Figure from Chelton et al. 1989, Pulse Compression and Sea Level Tracking in Satellite Altimetry\n",
    "\n",
    "**ToDo**\n",
    "- Compute the difference (in 'unit' gates) between the LEP and the tracking gate.\n",
    "- You already know the length of one gate (3.125 ns).\n",
    "- With these two values and the speed of light, compute the range correction.\n"
   ]
  },
  {
   "cell_type": "code",
   "execution_count": null,
   "id": "39b057d9-e1fb-4995-9013-6d4ac734b187",
   "metadata": {
    "jupyter": {
     "source_hidden": true
    },
    "tags": []
   },
   "outputs": [],
   "source": [
    "# assume that radiowaves travel with speed of light\n",
    "sod = 299792458 # [m/s], speed of light\n",
    "\n",
    "# nominal tracking gate for Jason-3\n",
    "tracking_gate = 32.5\n",
    "gate_diff = LEP - tracking_gate\n",
    "\n",
    "range_correction = gate_diff * (10**-9) * sod\n",
    "print('Range correction from retracking:', range_correction.values, 'm')"
   ]
  },
  {
   "cell_type": "code",
   "execution_count": null,
   "id": "fc53dea9-a35f-4f19-aed9-c8fc61d00ffc",
   "metadata": {
    "jupyter": {
     "source_hidden": true
    },
    "tags": []
   },
   "outputs": [],
   "source": [
    "# Plot the main outcomes of the OCOG retracker\n",
    "plot_single_waveform(data_20, lat_single, lep=LEP, tracking_gate=tracking_gate, A=A, COG=COG)"
   ]
  },
  {
   "cell_type": "markdown",
   "id": "491caac9-2678-4e7f-be37-14cb0afb671c",
   "metadata": {},
   "source": [
    "## Step 5: Compute the total range\n",
    "The total range from the satellite to the surface results from adding the range correction to the tracker range.\n",
    "\n",
    "**ToDo**\n",
    "- In the input file (`data_20`), how many tracker ranges do you find? What are their differences?\n",
    "- Choose a tracker range and exxtract the waveform using `idx_wf`.\n",
    "- Add the range correction to the tracker range to get the total range."
   ]
  },
  {
   "cell_type": "code",
   "execution_count": null,
   "id": "6ba88cf6-495e-4564-ad91-7678e5ab9318",
   "metadata": {
    "jupyter": {
     "source_hidden": true
    },
    "tags": []
   },
   "outputs": [],
   "source": [
    "# without corrections\n",
    "data_20.tracker_range_diode[idx_wf]"
   ]
  },
  {
   "cell_type": "code",
   "execution_count": null,
   "id": "c31512e9-d2a7-4292-a28b-432d35e4cb17",
   "metadata": {
    "jupyter": {
     "source_hidden": true
    },
    "tags": []
   },
   "outputs": [],
   "source": [
    "data_20.tracker_range_calibrated[idx_wf]\n",
    "# corrections included:\n",
    "# - Distance antenna-COG (/data_01/range_cor_cog)\n",
    "# - USO drift correction (/data_01/range_cor_uso)\n",
    "# - internal path correction (/data_01/ku/range_cor_internal_path)"
   ]
  },
  {
   "cell_type": "code",
   "execution_count": null,
   "id": "489e3e69-7664-4b38-b75a-0045583e7d8b",
   "metadata": {
    "jupyter": {
     "source_hidden": true
    },
    "tags": []
   },
   "outputs": [],
   "source": [
    "range_total = (data_20.tracker_range_calibrated[idx_wf] + range_correction).values\n",
    "range_total"
   ]
  },
  {
   "cell_type": "markdown",
   "id": "d0d2424a-e70a-4925-aaac-6620c4026479",
   "metadata": {
    "tags": []
   },
   "source": [
    "## Step 6: Validate the resulting range\n",
    "**ToDo**\n",
    "- How many solutions for the total range do you find in the input file (`data_20`)?\n",
    "- How do their results differ?"
   ]
  },
  {
   "cell_type": "code",
   "execution_count": null,
   "id": "23e5c5fb-6aeb-4db8-9a86-d574f41851ee",
   "metadata": {
    "jupyter": {
     "source_hidden": true
    },
    "tags": []
   },
   "outputs": [],
   "source": [
    "data_20.range_ocean[idx_wf]\n",
    "# corrections included:\n",
    "# - Distance antenna-COG (/data_01/range_cor_cog)\n",
    "# - USO drift correction (/data_01/range_cor_uso)\n",
    "# - internal path correction (/data_01/ku/range_cor_internal_path)\n",
    "# - Doppler correction (/data_01/ku/range_cor_doppler)\n",
    "# - modeled instrumental errors correction (/data_01/ku/range_cor_ocean_model_instr)\n",
    "# - system bias"
   ]
  },
  {
   "cell_type": "code",
   "execution_count": null,
   "id": "958715c1-d520-4fe9-9423-529f7604ecf6",
   "metadata": {
    "jupyter": {
     "source_hidden": true
    },
    "tags": []
   },
   "outputs": [],
   "source": [
    "data_20.range_ocean_mle3[idx_wf]\n",
    "# corrections included:\n",
    "# - Distance antenna-COG (/data_01/range_cor_cog)\n",
    "# - USO drift correction (/data_01/range_cor_uso)\n",
    "# - internal path correction (/data_01/ku/range_cor_internal_path)\n",
    "# - Doppler correction (/data_01/ku/range_cor_doppler)\n",
    "# - modeled instrumental errors correction (/data_01/ku/range_cor_ocean_model_instr)\n",
    "# - system bias"
   ]
  },
  {
   "cell_type": "code",
   "execution_count": null,
   "id": "b9ae063c-4a4b-4b1c-a858-de8d0ee892bc",
   "metadata": {
    "jupyter": {
     "source_hidden": true
    },
    "tags": []
   },
   "outputs": [],
   "source": [
    "data_20.range_adaptive[idx_wf]\n",
    "# corrections included:\n",
    "# - Distance antenna-COG (/data_01/range_cor_cog)\n",
    "# - USO drift correction (/data_01/range_cor_uso)\n",
    "# - internal path correction (/data_01/ku/range_cor_internal_path)\n",
    "# - Doppler correction (/data_01/ku/range_cor_doppler)\n",
    "# - system bias"
   ]
  },
  {
   "cell_type": "code",
   "execution_count": null,
   "id": "d08eb85c-c8d3-4c6a-9405-a6b3b662dac3",
   "metadata": {
    "jupyter": {
     "source_hidden": true
    },
    "tags": []
   },
   "outputs": [],
   "source": [
    "data_20.range_ocog[idx_wf]\n",
    "# corrections included:\n",
    "# - Distance antenna-COG (/data_01/range_cor_cog)\n",
    "# - USO drift correction (/data_01/range_cor_uso)\n",
    "# - internal path correction (/data_01/ku/range_cor_internal_path)\n",
    "# - Doppler correction (/data_01/ku/range_cor_doppler)\n",
    "# - system bias"
   ]
  },
  {
   "cell_type": "markdown",
   "id": "e94b5bf3-c089-4f2c-a53c-43b106c5b058",
   "metadata": {},
   "source": [
    "**Corrections**\n",
    "\n",
    "The ranges in the input file have already some corrections included. (For now, don't worry too much about the corrections, we will come to them soon.) To make these ranges comparable to our range we have to add the same corrections:"
   ]
  },
  {
   "cell_type": "code",
   "execution_count": null,
   "id": "184f5d72-a7bb-43ad-b520-384d9c6e231f",
   "metadata": {
    "jupyter": {
     "source_hidden": true
    },
    "tags": []
   },
   "outputs": [],
   "source": [
    "# Interpolate corrections (linearly) from 1 Hz resolution to 20 Hz\n",
    "range_cor_cog_20 = np.interp(data_20.time, data_01.time, data_01.range_cor_cog)\n",
    "range_cor_uso_20 = np.interp(data_20.time, data_01.time, data_01.range_cor_uso)\n",
    "range_cor_internal_path_20 = np.interp(data_20.time, data_01.time, data_01.range_cor_internal_path)\n",
    "range_cor_doppler_20 = np.interp(data_20.time, data_01.time, data_01.range_cor_doppler)\n",
    "range_cor_ocean_model_instr_20 = np.interp(data_20.time, data_01.time, data_01.range_cor_ocean_model_instr)"
   ]
  },
  {
   "cell_type": "code",
   "execution_count": null,
   "id": "f1803daf-002d-45e6-a75f-74ea0168f578",
   "metadata": {
    "jupyter": {
     "source_hidden": true
    },
    "tags": []
   },
   "outputs": [],
   "source": [
    "# For comparison with range_ocog and range_adaptive, add the Doppler correction:\n",
    "range_total_corr1 = range_total + range_cor_doppler_20[idx_wf]\n",
    "range_total_corr1"
   ]
  },
  {
   "cell_type": "code",
   "execution_count": null,
   "id": "c723752f-a40b-4793-8797-d15987b3da41",
   "metadata": {
    "jupyter": {
     "source_hidden": true
    },
    "tags": []
   },
   "outputs": [],
   "source": [
    "# For comparison with range_ocean and range_ocean_mle3, add the Doppler correction and the modelled instrumental correction:\n",
    "range_total_corr2 = range_total + range_cor_doppler_20[idx_wf] + range_cor_ocean_model_instr_20[idx_wf]\n",
    "range_total_corr2"
   ]
  },
  {
   "cell_type": "markdown",
   "id": "24133eb2-7fde-4a29-9ebd-3e2189bb5239",
   "metadata": {},
   "source": [
    "## Step 7: Threshold retracker\n",
    "- As the results from the OCOG retracker did not perform too well in comparison with the given values from the input file, we will try another empirical retracker.\n",
    "- The threshold retracker uses the amplitude computed during the OCOG retracker. It defines the correction slightly different: Instead of the difference between the LEP and the tracking gate, it takes the difference between the gate where e.g. 50% of the amplitude is reached and the tracking gate as the range correction.\n",
    "- Which percentage of the amplitude is chosen is slightly arbitrary, meaning that people simply made a lot of experiments and found out that e.g. 50% works well for very scattered surfaces and lower percentages work well for ice (because the pulse goes through the first layers of ice).\n",
    "- Did you notice the description '(ice retracking)' in the attributes of `range-ocog`? According to a colleague this is a 30%-threshold retracker, instead of the original OCOG retracker. Yes, it would be nice of data providers to describe the fields a bit less ambiguous...\n",
    "\n",
    "**ToDo**\n",
    "- Choose a threshold.\n",
    "- Compute the corresponding threshold energy as a portion of the amplitude.\n",
    "- Find the corresponding gate with linear interpolation (given).\n",
    "- Then proceed as above only using the new found threshold gate instead of the LEP to compute the range correction and the total range."
   ]
  },
  {
   "cell_type": "code",
   "execution_count": null,
   "id": "9d636633-0ef4-4ae0-8298-d8ea71f488e6",
   "metadata": {
    "jupyter": {
     "source_hidden": true
    },
    "tags": []
   },
   "outputs": [],
   "source": [
    "# define threshold\n",
    "q = 0.3\n",
    "# threshold energy\n",
    "T = q * A.values"
   ]
  },
  {
   "cell_type": "code",
   "execution_count": null,
   "id": "053380d8-7356-40a1-9341-248f7de16a6f",
   "metadata": {
    "jupyter": {
     "source_hidden": true
    },
    "tags": []
   },
   "outputs": [],
   "source": [
    "# Find the corresponding gate with linear interpolation.\n",
    "# candidates for the index before first occurrence of q*A\n",
    "idx_cands = np.where(wf < T)[0]\n",
    "\n",
    "# only keep indices before the very first occurrence (in case energy later falls below q*A)\n",
    "idx_before_first_occ = []\n",
    "eps=2\n",
    "for i in range(1, len(idx_cands)):\n",
    "    if wf[idx_cands[i-1]] < (wf[idx_cands[i]] + eps):\n",
    "        idx_before_first_occ.append(idx_cands[i])\n",
    "    else:\n",
    "        break\n",
    "idx_before = idx_before_first_occ[-1]\n",
    "idx_after = idx_before + 1\n",
    "\n",
    "# assuming a linear increase of power between these two points:\n",
    "ratio_energy = wf[idx_before] / wf[idx_after]\n",
    "\n",
    "gate_threshold = idx_after - ratio_energy\n",
    "\n",
    "print(gate_threshold.values)"
   ]
  },
  {
   "cell_type": "code",
   "execution_count": null,
   "id": "f2e89349-ece7-43d4-af20-ecbabaac4612",
   "metadata": {
    "jupyter": {
     "source_hidden": true
    },
    "tags": []
   },
   "outputs": [],
   "source": [
    "gate_diff_threshold = gate_threshold - tracking_gate\n",
    "range_correction_threshold = gate_diff_threshold * (10**-9) * sod"
   ]
  },
  {
   "cell_type": "code",
   "execution_count": null,
   "id": "1f2a69a9-38fa-4d87-8a41-c62cbf91e4c6",
   "metadata": {
    "jupyter": {
     "source_hidden": true
    },
    "tags": []
   },
   "outputs": [],
   "source": [
    "range_total_threshold = (data_20.tracker_range_calibrated[idx_wf] + range_correction_threshold).values\n",
    "range_total_threshold"
   ]
  },
  {
   "cell_type": "code",
   "execution_count": null,
   "id": "af1abc38-04ee-4006-b8e5-f2fbf7f23217",
   "metadata": {
    "jupyter": {
     "source_hidden": true
    },
    "tags": []
   },
   "outputs": [],
   "source": [
    "# For comparison with range_ocog and range_adaptive\n",
    "range_total_threshold_corr1 = range_total_threshold + range_cor_doppler_20[idx_wf]\n",
    "range_total_threshold_corr1"
   ]
  },
  {
   "cell_type": "code",
   "execution_count": null,
   "id": "41989894-bdca-4aab-b8ba-f8e97ce5d31b",
   "metadata": {
    "jupyter": {
     "source_hidden": true
    },
    "tags": []
   },
   "outputs": [],
   "source": [
    "# For comparison with range_ocean and range_ocean_mle3\n",
    "range_total_threshold_corr2 = range_total_threshold + range_cor_doppler_20[idx_wf] + range_cor_ocean_model_instr_20[idx_wf]\n",
    "range_total_threshold_corr2"
   ]
  },
  {
   "cell_type": "markdown",
   "id": "1cde9f4e-aca4-4d90-81cf-16fada8d71d6",
   "metadata": {},
   "source": [
    "**ToDo**\n",
    "- Choose another waveform and do the computation again (to save time, in the menu: Run -> Run selected cell and all below)"
   ]
  },
  {
   "cell_type": "markdown",
   "id": "67c79c96-45aa-448f-b6ba-ba01121b1256",
   "metadata": {},
   "source": [
    "## Step 8: Add corrections\n",
    "- After retrieving the range from retracking the waveforms, it has to be corrected for a variety of effects.\n",
    "- Because looking at the full track is a bit more interesting than only one point, we will continue to work with one of the solutions for the range given in the input file (range_adaptive). (The adaptive retracker is described in [Thibaut et al. 2021](https://ieeexplore.ieee.org/abstract/document/9553647)). Just be aware that this is not what one would usually do for inland waters. "
   ]
  },
  {
   "cell_type": "code",
   "execution_count": null,
   "id": "c405c596-174d-463b-a42a-3e0b6f5ccbed",
   "metadata": {
    "jupyter": {
     "source_hidden": true
    },
    "tags": []
   },
   "outputs": [],
   "source": [
    "extent = {'lon_min': 36.965, 'lon_max': 37.700, 'lat_min': bnds_lat[1], 'lat_max': bnds_lat[0]+0.1}\n",
    "plot_altimetry_tracks(data_20.longitude, data_20.latitude, title='Ranges from adaptive retracker',\\\n",
    "        cb_label='range [m]', value=data_20.range_adaptive, extent=extent)"
   ]
  },
  {
   "cell_type": "markdown",
   "id": "f73d05c5-7957-4910-8b34-59feaca187bc",
   "metadata": {},
   "source": [
    "**Possible corrections to take into account are:**\n",
    "- \"Ocean\" tides (water body tides)\n",
    "- Load tides\n",
    "- Solid Earth tides\n",
    "- Pole tides\n",
    "- Wet atmospheric correction\n",
    "- Dry tropospheric correction\n",
    "- Ionospheric correction\n",
    "- Instrumental corrections (are in this case already included in the given ranges)\n",
    "- Inverse barometer\n",
    "- Sea state bias\n",
    "- High frequency fluctuations of the sea surface\n",
    "\n",
    "**ToDo**\n",
    "- Find the right corrections in the input dataset (`data_01`).\n",
    "- Examine the approximate magnitude of each correction to get a feeling on how much influence they have.\n",
    "- Interpolate the corrections given in 1 Hz resolution to the 20 Hz resolution of the ranges.\n",
    "- Find the altitude in `data_20`.\n",
    "- Put everything together: Corrected lake level = Altitude - Range + Corrections.\n",
    "\n",
    "**Questions**\n",
    "- The list of corrections above is inspired by ocean altimetry. Do you think that all these corrections are also useful/required for altimetry over lakes?\n",
    "- The corrections that come with the Jason-3 waveforms in the input dataset were developed for ocean applications. On a scale from 1 (very bad) to 5 (very good), is that really a good idea?\n",
    "    - For some inspiration:\n",
    "        - [Fernandes et al. (2014), Atmospheric Corrections for Altimetry Studies over Inland Water](https://www.mdpi.com/2072-4292/6/6/4952)\n",
    "        - [Kittel et al. (2021), Sentinel-3 radar altimetry for river monitoring – a catchment-scale evaluation of satellite water surface elevation from Sentinel-3A and Sentinel-3B](https://hess.copernicus.org/articles/25/333/2021/)\n",
    "        - ...\n"
   ]
  },
  {
   "cell_type": "code",
   "execution_count": null,
   "id": "2eb558ae-94ac-4810-8083-058d3c6fe26b",
   "metadata": {
    "jupyter": {
     "source_hidden": true
    },
    "tags": []
   },
   "outputs": [],
   "source": [
    "# Magnitudes of corrections\n",
    "print(\"Water body tides:\", data_01.ocean_tide_fes.mean().values, \"+-\", std(data_01.ocean_tide_fes), \"m\")\n",
    "print(\"Load tides:\", data_01.load_tide_fes.mean().values, \"+-\", std(data_01.load_tide_fes), \"m\")\n",
    "print(\"Solid Earth tides:\", data_01.solid_earth_tide.mean().values, \"+-\", std(data_01.solid_earth_tide), \"m\")\n",
    "print(\"Pole tides:\", data_01.pole_tide.mean().values, \"+-\", std(data_01.pole_tide), \"m\")\n",
    "print(\"Wet tropospheric correction:\", data_01.model_wet_tropo_cor_measurement_altitude.mean().values, \"+-\", std(data_01.model_wet_tropo_cor_measurement_altitude), \"m\")\n",
    "print(\"Dry tropospheric correction:\", data_01.model_dry_tropo_cor_measurement_altitude.mean().values, \"+-\", std(data_01.model_dry_tropo_cor_measurement_altitude), \"m\")\n",
    "print(\"Ionospheric correction:\", data_01.iono_cor_alt_mle3.mean().values, \"+-\", std(data_01.iono_cor_alt_mle3), \"m\")\n",
    "print(\"High frequency fluctuations + Inverse barometer:\", data_01.dac.mean().values, \"+-\", std(data_01.dac), \"m\")\n",
    "print(\"Sea state bias:\", data_01.sea_state_bias.mean().values, \"+-\", std(data_01.sea_state_bias), \"m\")"
   ]
  },
  {
   "cell_type": "code",
   "execution_count": null,
   "id": "e60f57a3-0b38-4b5d-9c38-a70ebb0d2311",
   "metadata": {
    "jupyter": {
     "source_hidden": true
    },
    "tags": []
   },
   "outputs": [],
   "source": [
    "# Interpolate the 1 Hz corrections to the 20 Hz dataset\n",
    "ocean_tide_fes_20 = np.interp(data_20.time, data_01.time, data_01.ocean_tide_fes)\n",
    "load_tide_fes_20 = np.interp(data_20.time, data_01.time, data_01.load_tide_fes)\n",
    "solid_earth_tide_20 = np.interp(data_20.time, data_01.time, data_01.solid_earth_tide)\n",
    "pole_tide_20 = np.interp(data_20.time, data_01.time, data_01.pole_tide)\n",
    "model_wet_tropo_cor_measurement_altitude_20 = np.interp(data_20.time, data_01.time, data_01.model_wet_tropo_cor_measurement_altitude)\n",
    "model_dry_tropo_cor_measurement_altitude_20 = np.interp(data_20.time, data_01.time, data_01.model_dry_tropo_cor_measurement_altitude)\n",
    "iono_cor_alt_20 = np.interp(data_20.time, data_01.time, data_01.iono_cor_alt_mle3)\n",
    "dac_20 = np.interp(data_20.time, data_01.time, data_01.dac)\n",
    "sea_state_bias_mle3_20 = np.interp(data_20.time, data_01.time, data_01.sea_state_bias_mle3)"
   ]
  },
  {
   "cell_type": "code",
   "execution_count": null,
   "id": "61a39452-5b03-489d-8ebe-fe6f991fa7b3",
   "metadata": {
    "jupyter": {
     "source_hidden": true
    },
    "tags": []
   },
   "outputs": [],
   "source": [
    "# Compute the lake surface height above ellipsoide\n",
    "h_ell = data_20.altitude - data_20.range_ocean \\\n",
    "                + ocean_tide_fes_20 \\\n",
    "                + load_tide_fes_20 \\\n",
    "                + solid_earth_tide_20 \\\n",
    "                + pole_tide_20 \\\n",
    "                + model_wet_tropo_cor_measurement_altitude_20 \\\n",
    "                + model_dry_tropo_cor_measurement_altitude_20 \\\n",
    "                + iono_cor_alt_20 + dac_20 + sea_state_bias_mle3_20"
   ]
  },
  {
   "cell_type": "code",
   "execution_count": null,
   "id": "9212eaba-7278-4e6b-9f05-5ef6be843e4f",
   "metadata": {
    "jupyter": {
     "source_hidden": true
    },
    "tags": []
   },
   "outputs": [],
   "source": [
    "plot_altimetry_tracks(h_ell.longitude, h_ell.latitude, title='Corrected lake levels',\\\n",
    "        cb_label='height over ellipsoid [m]', value=h_ell, extent=extent)"
   ]
  },
  {
   "cell_type": "markdown",
   "id": "6d1fe417-21a5-4484-be48-84f503039925",
   "metadata": {},
   "source": [
    "**On choosing \"the right\" correction**\n",
    "- You probably saw that for each correction there are several possibilities given in the input file.\n",
    "- Similar as with the retracked range, it might even be useful to use specialized products instead.\n",
    "- We also lost a significant portion of the track due to the ionospheric correction. There are 9 different ones and the one applied here is already the one with the least NaN-values...\n",
    "- In a real-life application we would now search the existing knowledge to find a better solution (if there is one, the research is pretty on-going)."
   ]
  }
 ],
 "metadata": {
  "kernelspec": {
   "display_name": "pyf2f-Dar",
   "language": "python",
   "name": "pyf2f-dar"
  },
  "language_info": {
   "codemirror_mode": {
    "name": "ipython",
    "version": 3
   },
   "file_extension": ".py",
   "mimetype": "text/x-python",
   "name": "python",
   "nbconvert_exporter": "python",
   "pygments_lexer": "ipython3",
   "version": "3.11.6"
  }
 },
 "nbformat": 4,
 "nbformat_minor": 5
}
