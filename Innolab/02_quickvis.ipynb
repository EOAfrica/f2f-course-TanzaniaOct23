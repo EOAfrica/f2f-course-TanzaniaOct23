{
 "cells": [
  {
   "cell_type": "markdown",
   "id": "92dc6edf-b586-4d82-ba8d-8332523bc8fa",
   "metadata": {},
   "source": [
    "<img src=\"media/jupybanner-EOAFRICA+ESA.png\" width=\"100%\" alt=\"Banner for EO AFRICA course\" />\n",
    "\n",
    "# Exploring the Inno lab, a quick visualization exercise\n",
    "**face 2 face workshop Soil Moisture and Inland Water A with Satellite Radar\n",
    "Dar es Salaam, Tanzania, 19th October 2023**\n",
    "\n",
    "*Authors: Roelof Rietbroek\n",
    "October 2023*\n",
    "\n",
    "\n",
    "In this exercise you will learn how to explore and visualize datasets with xarray.\n",
    "\n",
    "## Tasks\n",
    "After executing the cells you can try the following:\n",
    "1. Choose a different time of the dataset\n",
    "2. Try plotting a different region\n",
    "3. Find another dataset of choice and try to plot it\n",
    "\n"
   ]
  },
  {
   "cell_type": "code",
   "execution_count": null,
   "id": "012437be-6e92-4850-94ce-07156a400372",
   "metadata": {
    "tags": []
   },
   "outputs": [],
   "source": [
    "import xarray as xr\n",
    "import cartopy.crs as ccrs\n",
    "import matplotlib.pyplot as plt\n"
   ]
  },
  {
   "cell_type": "code",
   "execution_count": null,
   "id": "0b33a570-a992-47ba-a019-3df9fe7999fc",
   "metadata": {
    "tags": []
   },
   "outputs": [],
   "source": [
    "filepath=\"/home/eoafrica/eodata/CMEMS/REP/GLO/SST/SST_GLO_SST_L4_REP_OBSERVATIONS_010_011/2022/05/13/20220513120000-UKMO-L4_GHRSST-SSTfnd-OSTIA-GLOB_REP-v02.0-fv02.0.nc\"\n",
    "sstds=xr.open_dataset(filepath)\n",
    "display(sstds)"
   ]
  },
  {
   "cell_type": "code",
   "execution_count": null,
   "id": "97951015-1053-4f53-a29c-89ae12ce8d14",
   "metadata": {
    "tags": []
   },
   "outputs": [],
   "source": [
    "%matplotlib inline\n",
    "\n",
    "# Make a quick plot globally\n",
    "islice=0\n",
    "sstds.analysed_sst[islice,:,:].plot()\n",
    "\n",
    "#fancier version (cmomment above and uncomment below)\n",
    "# sstds.analysed_sst[islice,:,:].plot(subplot_kws=dict(projection=ccrs.Orthographic(40, -6), facecolor=\"gray\"),transform=ccrs.PlateCarree())\n",
    "\n"
   ]
  },
  {
   "cell_type": "code",
   "execution_count": null,
   "id": "1a42b7b1-ed19-46a9-aee5-f0d606495c4c",
   "metadata": {
    "tags": []
   },
   "outputs": [],
   "source": [
    "# make a regional plot of the coast off Dar\n",
    "\n",
    "\n",
    "extent=[38,40,-8,-5]\n",
    "inputcrs = ccrs.PlateCarree()\n",
    "sstds.analysed_sst[islice,:,:].plot(subplot_kws=dict(projection=ccrs.Mercator(), facecolor=\"gray\",extent=extent),transform=inputcrs)\n",
    "\n",
    "\n",
    "\n"
   ]
  },
  {
   "cell_type": "code",
   "execution_count": null,
   "id": "40ed2a0b-9dc3-4958-96d8-1e4ee78a4f0c",
   "metadata": {
    "tags": []
   },
   "outputs": [],
   "source": [
    "# sstds_dask=xr.open_dataset(filepath,engine='h5netcdf',chunks={\"lon\":120,\"lat\":120}) #alternative using dask\n",
    "sstds_dask=xr.open_dataset(filepath)\n",
    "display(sstds_dask.analysed_sst[islice,:,:])"
   ]
  },
  {
   "cell_type": "code",
   "execution_count": null,
   "id": "ca49a207-0448-40cb-8c70-389fcaa5d663",
   "metadata": {
    "tags": []
   },
   "outputs": [],
   "source": [
    "ilon=(sstds_dask.lon <= extent[1])&  (sstds_dask.lon >= extent[0])\n",
    "ilat=(sstds_dask.lat <= extent[3])&  (sstds_dask.lat >= extent[2])"
   ]
  },
  {
   "cell_type": "code",
   "execution_count": null,
   "id": "d92f9f50-3cdd-4b92-8373-8b9e8be77e53",
   "metadata": {
    "tags": []
   },
   "outputs": [],
   "source": [
    "# This is much quicker to plot!! Why?\n",
    "\n",
    "sstds_dask.analysed_sst[islice,ilat,ilon].plot(subplot_kws=dict(projection=ccrs.Mercator(), facecolor=\"gray\",extent=extent),transform=inputcrs)\n"
   ]
  }
 ],
 "metadata": {
  "kernelspec": {
   "display_name": "pyf2f-Dar",
   "language": "python",
   "name": "pyf2f-dar"
  },
  "language_info": {
   "codemirror_mode": {
    "name": "ipython",
    "version": 3
   },
   "file_extension": ".py",
   "mimetype": "text/x-python",
   "name": "python",
   "nbconvert_exporter": "python",
   "pygments_lexer": "ipython3",
   "version": "3.11.6"
  }
 },
 "nbformat": 4,
 "nbformat_minor": 5
}
