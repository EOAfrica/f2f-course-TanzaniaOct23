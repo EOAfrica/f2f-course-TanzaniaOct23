{
 "cells": [
  {
   "cell_type": "markdown",
   "id": "3eec777e",
   "metadata": {},
   "source": [
    "# <h1 style=\"font-size:3rem;color:green;\">Plotting penetration depth of microwaves into soil </h1>"
   ]
  },
  {
   "cell_type": "markdown",
   "id": "a0838972",
   "metadata": {},
   "source": [
    "# First, import packages"
   ]
  },
  {
   "cell_type": "code",
   "execution_count": null,
   "id": "9a8a7ead",
   "metadata": {},
   "outputs": [],
   "source": [
    "import matplotlib.pyplot as plt\n",
    "import matplotlib as mpl\n",
    "import pandas as pd"
   ]
  },
  {
   "cell_type": "markdown",
   "id": "02bda498",
   "metadata": {},
   "source": [
    "# Second, read the data"
   ]
  },
  {
   "cell_type": "markdown",
   "id": "1a74c20e",
   "metadata": {},
   "source": [
    "#### One way to store data is by using lists. An example of a list is x = [1, 2, 3]. Now, make lists for soil moisture (sm), and the penetration depth of x-band, c-band and l-band SAR microwaves, using the data given in the powerpoint."
   ]
  },
  {
   "cell_type": "code",
   "execution_count": null,
   "id": "dd972ba8",
   "metadata": {},
   "outputs": [],
   "source": [
    "sm = []\n",
    "xband = []\n",
    "cband = []\n",
    "lband = []"
   ]
  },
  {
   "cell_type": "markdown",
   "id": "f1fb3117",
   "metadata": {},
   "source": [
    "# Finally, plot the data"
   ]
  },
  {
   "cell_type": "markdown",
   "id": "d79233d0",
   "metadata": {},
   "source": [
    "#### The data is plotted using the code below. However, some parts of the code are missing. Missing parts are shown by '?????'. Replace the question marks with the right code based on some tips behind the '##'. Run the code to plot the data."
   ]
  },
  {
   "cell_type": "code",
   "execution_count": null,
   "id": "57c05b8b",
   "metadata": {},
   "outputs": [],
   "source": [
    "mpl.rcParams.update({'font.size': 12})\n",
    "fig = plt.figure(figsize=(15,5))\n",
    "fig.suptitle('?????', y=1.05, fontsize=15)  ## in between the '' , type a title that explains the plot. \n",
    "\n",
    "# Plot X-band\n",
    "ax1 = plt.subplot(131) # 1 row, 3 columns, plot 1\n",
    "ax1.plot(?????, ?????, marker='D', markersize=6,  color='sandybrown') ## ax1.plot(x,y). Use the code below to see which lists should replace the question marks here.\n",
    "ax1.grid()\n",
    "ax1.set_ylabel('Penetration depth [cm]')\n",
    "ax1.set_xlabel('Soil Moisture Content [cm$^3$ cm$^{-3}$]')\n",
    "ax1.set_title('X-band (λ=3cm)')\n",
    "\n",
    "# Plot C-band\n",
    "ax2 = plt.subplot(132) # 1 row, 3 columns, plot 2\n",
    "ax2.plot(?????, ?????, marker='D', markersize=6,  color='mediumseagreen') ## ax2.plot(x,y). Use the code below to see which lists should replace the question marks here.\n",
    "ax2.grid()\n",
    "ax2.set_ylabel('Penetration depth [cm]')\n",
    "ax2.set_xlabel('Soil Moisture Content [cm$^3$ cm$^{-3}$]')\n",
    "ax2.set_title('C-band (λ=6cm)')\n",
    "\n",
    "# Plot L-band\n",
    "ax3 = plt.subplot(133) # 1 row, 3 columns, plot 3\n",
    "ax3.plot(?????, ?????, marker='D', markersize=6,  color='darkred') ## ax3.plot(x,y). Use the code below to see which lists should replace the question marks here.\n",
    "ax3.grid()\n",
    "ax3.set_ylabel('Penetration depth [cm]')\n",
    "ax3.set_xlabel('Soil Moisture Content [cm$^3$ cm$^{-3}$]')\n",
    "ax3.set_title('L-band (λ=21cm)')"
   ]
  },
  {
   "cell_type": "code",
   "execution_count": null,
   "id": "d9e67cda",
   "metadata": {},
   "outputs": [],
   "source": []
  }
 ],
 "metadata": {
  "kernelspec": {
   "display_name": "Python 3 (ipykernel)",
   "language": "python",
   "name": "python3"
  },
  "language_info": {
   "codemirror_mode": {
    "name": "ipython",
    "version": 3
   },
   "file_extension": ".py",
   "mimetype": "text/x-python",
   "name": "python",
   "nbconvert_exporter": "python",
   "pygments_lexer": "ipython3",
   "version": "3.8.10"
  }
 },
 "nbformat": 4,
 "nbformat_minor": 5
}
