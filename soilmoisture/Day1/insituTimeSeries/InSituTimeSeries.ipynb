{
 "cells": [
  {
   "cell_type": "markdown",
   "id": "06bd4be9",
   "metadata": {},
   "source": [
    "<h1 style=\"font-size:3rem;color:green;\">Plotting time series of in situ soil moisture observations </h1>"
   ]
  },
  {
   "cell_type": "markdown",
   "id": "ca1c7d5f",
   "metadata": {},
   "source": [
    "IN THIS EXERCISE, WE ARE GOING TO PLOT TIME SERIES OF IN SITU SOIL MOISTURE STATIONS IN THE TWENTE REGION, THE NETHERLANDS"
   ]
  },
  {
   "cell_type": "markdown",
   "id": "01e0fbd9",
   "metadata": {},
   "source": [
    "# First, import packages"
   ]
  },
  {
   "cell_type": "code",
   "execution_count": null,
   "id": "33000d3a-a6e4-4877-86e7-f49c92948cdc",
   "metadata": {
    "tags": []
   },
   "outputs": [],
   "source": [
    "import matplotlib.pyplot as plt\n",
    "import pandas as pd\n",
    "pd.plotting.register_matplotlib_converters()\n",
    "from pandas import read_csv\n",
    "pd.plotting.register_matplotlib_converters()"
   ]
  },
  {
   "cell_type": "markdown",
   "id": "072cb482",
   "metadata": {
    "tags": []
   },
   "source": [
    "# Second, read and check the data"
   ]
  },
  {
   "cell_type": "markdown",
   "id": "5eaa951e",
   "metadata": {},
   "source": [
    "We are going to use soil moisture station 1 (ITCSM01) as an example."
   ]
  },
  {
   "cell_type": "code",
   "execution_count": null,
   "id": "b67ee465-7b91-4172-a2a7-d8ed0068ff9c",
   "metadata": {
    "tags": []
   },
   "outputs": [],
   "source": [
    "ITCSM01 = read_csv('ITCSM01.csv', sep=';', skiprows=1, encoding = \"ISO-8859-1\") #read data"
   ]
  },
  {
   "cell_type": "markdown",
   "id": "3fd3bc0a",
   "metadata": {},
   "source": [
    "### Check the (first rows of) the data"
   ]
  },
  {
   "cell_type": "code",
   "execution_count": null,
   "id": "a843aaf2-2a25-4f92-989d-eccdb60fd0cd",
   "metadata": {
    "tags": []
   },
   "outputs": [],
   "source": [
    "ITCSM01.head()"
   ]
  },
  {
   "cell_type": "markdown",
   "id": "469888b8",
   "metadata": {},
   "source": [
    "### Check the type of the data in the data set"
   ]
  },
  {
   "cell_type": "code",
   "execution_count": null,
   "id": "956844e8",
   "metadata": {},
   "outputs": [],
   "source": [
    "type(ITCSM01['GMT'][0])   # [0] means the first item in the column"
   ]
  },
  {
   "cell_type": "code",
   "execution_count": null,
   "id": "28cb98ed",
   "metadata": {},
   "outputs": [],
   "source": [
    "type(ITCSM01['m³/m³ VWC'][0])"
   ]
  },
  {
   "cell_type": "code",
   "execution_count": null,
   "id": "e5c79c37",
   "metadata": {},
   "outputs": [],
   "source": [
    "type(ITCSM01['Temp °C'][0])"
   ]
  },
  {
   "cell_type": "markdown",
   "id": "31ef3c62",
   "metadata": {},
   "source": [
    "### What do these data types mean?"
   ]
  },
  {
   "cell_type": "markdown",
   "id": "118c7ea0",
   "metadata": {},
   "source": [
    "Search on the internet what these types of data mean, for example by googling \"str data type python\", or go to the website https://swcarpentry.github.io/python-novice-gapminder/03-types-conversion#:~:text=Integer%20(%20int%20)%3A%20represents%20positive,as%20long%20as%20they%20match)."
   ]
  },
  {
   "cell_type": "markdown",
   "id": "5a57debd",
   "metadata": {},
   "source": [
    "It appears that the values for soil moisture and temperature are 'floating points', or simply 'float' data. This means they are\n",
    "real numbers with decimal point, with which we can perform calculations. \n",
    "\n",
    "The GMT, or dates+time are 'string' data. This is basically just 'text'. Python does not know yet that these are dates+times. They are just considered text.\n",
    "\n",
    "One of the consequences is that python does not plot them as dates and times either. That is why we have to make sure python can handle these dates and times as dates and times rather than text.\n",
    "\n",
    "We can convert text to 'datetime' by using the pd.to_datetime command."
   ]
  },
  {
   "cell_type": "code",
   "execution_count": null,
   "id": "e4193e84",
   "metadata": {},
   "outputs": [],
   "source": [
    "ITCSM01[\"datetime\"] = pd.to_datetime(ITCSM01[\"GMT\"], format=\"%d-%m-%Y %H:%M\")"
   ]
  },
  {
   "cell_type": "markdown",
   "id": "5aac2895",
   "metadata": {},
   "source": [
    "Using format, we make sure that days are indeed assigned as days, etc."
   ]
  },
  {
   "cell_type": "markdown",
   "id": "8e439ea3",
   "metadata": {},
   "source": [
    "Check the (first rows of the) data"
   ]
  },
  {
   "cell_type": "code",
   "execution_count": null,
   "id": "82879c8b",
   "metadata": {},
   "outputs": [],
   "source": [
    "ITCSM01.head()"
   ]
  },
  {
   "cell_type": "markdown",
   "id": "7f18288a",
   "metadata": {},
   "source": [
    "We added a column called 'datetime'. Check the data type of the data in this column in the cell below."
   ]
  },
  {
   "cell_type": "code",
   "execution_count": null,
   "id": "d98fa2ec",
   "metadata": {},
   "outputs": [],
   "source": []
  },
  {
   "cell_type": "markdown",
   "id": "9b6a130e",
   "metadata": {},
   "source": [
    "# Plot time series of in situ soil moisture data from station ITCSM01"
   ]
  },
  {
   "cell_type": "markdown",
   "id": "a86e60dc",
   "metadata": {},
   "source": [
    "We use the plt.plot(x,y) command to plot data. Replace 'x' with 'ITCSM01['datetime']' and 'y' with 'ITCSM01['m³/m³ VWC']' in the cell below"
   ]
  },
  {
   "cell_type": "code",
   "execution_count": null,
   "id": "75cdb71f",
   "metadata": {},
   "outputs": [],
   "source": []
  },
  {
   "cell_type": "markdown",
   "id": "29a1ddcb",
   "metadata": {},
   "source": [
    "You have plotted the 5 cm soil moisture data time series from 2019 and 2020 for this particular station.\n",
    "However, the x-axis is not readable. And there are no x- and y-axis labels, nor a title. \n",
    "Make this plot nicer by using the following commands\n",
    "plt.plot(x,y), \n",
    "plt.xlabel(''), \n",
    "plt.ylabel(''), \n",
    "plt.grid(), \n",
    "plt.title(''). Use the empty cell below."
   ]
  },
  {
   "cell_type": "code",
   "execution_count": null,
   "id": "94f3a658",
   "metadata": {},
   "outputs": [],
   "source": []
  },
  {
   "cell_type": "markdown",
   "id": "42291074",
   "metadata": {},
   "source": [
    "# Now do it yourself. Repeat these steps for the other 4 stations."
   ]
  },
  {
   "cell_type": "markdown",
   "id": "20cacfb7",
   "metadata": {},
   "source": [
    "Use the cells below to write the code."
   ]
  },
  {
   "cell_type": "code",
   "execution_count": null,
   "id": "21436b6f",
   "metadata": {},
   "outputs": [],
   "source": []
  },
  {
   "cell_type": "code",
   "execution_count": null,
   "id": "491ca5f3",
   "metadata": {},
   "outputs": [],
   "source": []
  },
  {
   "cell_type": "code",
   "execution_count": null,
   "id": "5e0047b3",
   "metadata": {},
   "outputs": [],
   "source": []
  },
  {
   "cell_type": "code",
   "execution_count": null,
   "id": "b30b8d58",
   "metadata": {},
   "outputs": [],
   "source": []
  },
  {
   "cell_type": "code",
   "execution_count": null,
   "id": "fb97cbe5",
   "metadata": {},
   "outputs": [],
   "source": []
  },
  {
   "cell_type": "markdown",
   "id": "8abd265e",
   "metadata": {},
   "source": [
    "# Make your plots nicer"
   ]
  },
  {
   "cell_type": "markdown",
   "id": "fea11869",
   "metadata": {},
   "source": [
    "If you are done, try to get all time series in 1 plot (with different colors and a legend), and/or in 5 subplots below each other, with 1 x-axis. Use previous exercises and the internet to find the codes to do this."
   ]
  },
  {
   "cell_type": "code",
   "execution_count": null,
   "id": "05953c1a",
   "metadata": {},
   "outputs": [],
   "source": []
  },
  {
   "cell_type": "code",
   "execution_count": null,
   "id": "9765647a",
   "metadata": {},
   "outputs": [],
   "source": []
  },
  {
   "cell_type": "code",
   "execution_count": null,
   "id": "0c6d17e8",
   "metadata": {},
   "outputs": [],
   "source": []
  },
  {
   "cell_type": "code",
   "execution_count": null,
   "id": "1e729afe",
   "metadata": {},
   "outputs": [],
   "source": []
  },
  {
   "cell_type": "code",
   "execution_count": null,
   "id": "3be24ba7",
   "metadata": {},
   "outputs": [],
   "source": []
  }
 ],
 "metadata": {
  "kernelspec": {
   "display_name": "Python 3 (ipykernel)",
   "language": "python",
   "name": "python3"
  },
  "language_info": {
   "codemirror_mode": {
    "name": "ipython",
    "version": 3
   },
   "file_extension": ".py",
   "mimetype": "text/x-python",
   "name": "python",
   "nbconvert_exporter": "python",
   "pygments_lexer": "ipython3",
   "version": "3.8.10"
  }
 },
 "nbformat": 4,
 "nbformat_minor": 5
}
